{
 "cells": [
  {
   "cell_type": "markdown",
   "metadata": {},
   "source": [
    "# Combining Data Using Pandas (Following the previous dection \"data aggregation\")\n",
    "\n",
    "### About\n",
    "In this lesson, we'll show you how to aggregate data with pandas. Here are a couple of takeaways you can expect:\n",
    "- Different techniques for aggregating data\n",
    "- Building intuition around the groupby operation\n",
    "\n",
    "### Goal\n",
    "Throughout this lesson, we'll try to answer the following questions:\n",
    "- How can aggregating the data give us more insight into happiness scores?\n",
    "- How did world happiness change from 2015 to 2017?\n",
    "- Which factors contribute the most to the happiness score?\n",
    "\n",
    "### Dataset\n",
    "The dataset is from [World Happiness Report for 2015](https://www.kaggle.com/unsdsn/world-happiness), a CSV file called `World_Happiness_2015.csv`. Here are the descriptions for some of the columns we'll be working with:\n",
    "\n",
    "- `Country` — name of the country\n",
    "- `Region` — name of the region the country belongs to\n",
    "- `Happiness Rank` — the rank of the country, as determined by its happiness score\n",
    "- `Happiness Score` — a score assigned to each country based on the answers to a poll question that asks respondents to rate their happiness on a scale of 0-10\n",
    "- `Family` — the estimated extent to which family contributes to the happiness score\n",
    "- `Freedom` — the estimated extent to which freedom contributes to the happiness score\n",
    "- `Generosity` — the estimated extent to which generosity contributes to the happiness score"
   ]
  },
  {
   "cell_type": "markdown",
   "metadata": {},
   "source": [
    "### 1. Introduction\n",
    "Let's start by reading the 2015, 2016, and 2017 reports into a pandas dataframe and adding a `Year` column to each to make it easier to distinguish between them."
   ]
  },
  {
   "cell_type": "code",
   "execution_count": 3,
   "metadata": {},
   "outputs": [],
   "source": [
    "import pandas as pd\n",
    "happiness2015 = pd.read_csv(\"World_Happiness_2015.csv\")\n",
    "happiness2016 = pd.read_csv(\"World_Happiness_2016.csv\")\n",
    "happiness2017 = pd.read_csv(\"World_Happiness_2017.csv\")\n",
    "\n",
    "happiness2015['Year'] = 2015\n",
    "happiness2016['Year'] = 2016\n",
    "happiness2017['Year'] = 2017"
   ]
  },
  {
   "cell_type": "markdown",
   "metadata": {},
   "source": [
    "### 2. Combining Dataframes with the Concat Function\n",
    "1. Use the `pd.concat()` function to combine `head_2015` and `head_2016` along axis = 0. Remember to pass the `head_2015` and `head_2016` into the function as a list. Assign the result to `concat_axis0`.\n",
    "\n",
    "2. Use the `pd.concat()` function to combine `head_2015` and `head_2016` along axis = 1. Remember to pass `head_2015` and `head_2016` into the function as a list and set the axis parameter equal to 1. Assign the result to `concat_axis1`.\n",
    "\n",
    "3. Use the variable inspector to view `concat_axis0` and `concat_axis1`.\n",
    "   - Assign the number of rows in `concat_axis0` to a variable called `question1`.\n",
    "   - Assign the number of rows in `concat_axis1` to a variable called `question2`."
   ]
  },
  {
   "cell_type": "code",
   "execution_count": 4,
   "metadata": {},
   "outputs": [],
   "source": [
    "head_2015 = happiness2015[['Country','Happiness Score', 'Year']].head(3)\n",
    "head_2016 = happiness2016[['Country','Happiness Score', 'Year']].head(3)\n",
    "\n",
    "concat_axis0=pd.concat([head_2015,head_2016],axis=0)\n",
    "concat_axis1=pd.concat([head_2015,head_2016],axis=1)\n",
    "question1=6\n",
    "question2=3"
   ]
  },
  {
   "cell_type": "markdown",
   "metadata": {},
   "source": [
    "### 3. Combining Dataframes with the Concat Function Continued\n",
    "What happens if the dataframes have different shapes or columns? Let's confirm the `concat()` function's behavior when we combine dataframes that don't have the same shape in the next exercise.\n",
    "1. Use the `pd.concat()` function to combine `head_2015` and `head_2016` along axis = 0. Assign the result to `concat_axis0`.\n",
    "2. Assign the number of rows in `concat_axis0` to a variable called `rows`, and the number of columns in concat_axis0 to a variable called `columns`."
   ]
  },
  {
   "cell_type": "code",
   "execution_count": 10,
   "metadata": {},
   "outputs": [
    {
     "name": "stdout",
     "output_type": "stream",
     "text": [
      "(7, 4)\n"
     ]
    }
   ],
   "source": [
    "head_2015 = happiness2015[['Year','Country','Happiness Score', 'Standard Error']].head(4)\n",
    "head_2016 = happiness2016[['Country','Happiness Score', 'Year']].head(3)\n",
    "# head_2015 and head_2016 have different size\n",
    "concat_axis0=pd.concat([head_2015,head_2016])\n",
    "concat_axis1=pd.concat([head_2015,head_2016],axis=1)\n",
    "# concat pd axis cause nan value\n",
    "print(concat_axis0.shape) \n",
    "# rows=7 and columns=4"
   ]
  },
  {
   "cell_type": "markdown",
   "metadata": {},
   "source": [
    "### 4. Combining Dataframes with Different Shapes Using the Concat Function\n",
    "Use the `pd.concat()` function to combine `head_2015` and `head_2016` along axis = 0 again. This time, however, set the `ignore_index` parameter to `True` to reset the index in the result. Assign the result to `concat_update_index`."
   ]
  },
  {
   "cell_type": "code",
   "execution_count": 11,
   "metadata": {},
   "outputs": [
    {
     "name": "stdout",
     "output_type": "stream",
     "text": [
      "   Year      Country  Happiness Score  Standard Error\n",
      "0  2015  Switzerland            7.587         0.03411\n",
      "1  2015      Iceland            7.561         0.04884\n",
      "2  2015      Denmark            7.527         0.03328\n",
      "3  2015       Norway            7.522         0.03880\n",
      "4  2016      Denmark            7.526             NaN\n",
      "5  2016  Switzerland            7.509             NaN\n",
      "6  2016      Iceland            7.501             NaN\n"
     ]
    }
   ],
   "source": [
    "concat_update_index=pd.concat([head_2015,head_2016],ignore_index=True)\n",
    "print(concat_update_index)"
   ]
  },
  {
   "cell_type": "markdown",
   "metadata": {},
   "source": [
    "### 5. Joining Dataframes with the Merge Function\n",
    "Next, we'll explore the `pd.merge()` function - a function that can execute high performance database-style joins. Note that unlike the concat function, the merge function only combines dataframes horizontally (axis=1) and can only combine two dataframes at a time. \n",
    "\n",
    "- Use the `pd.merge()` function to join `three_2015` and `three_2016` on the `Country` column. Assign the result to merged."
   ]
  },
  {
   "cell_type": "code",
   "execution_count": 13,
   "metadata": {},
   "outputs": [
    {
     "name": "stdout",
     "output_type": "stream",
     "text": [
      "  Country  Happiness Rank_x  Year_x  Happiness Rank_y  Year_y\n",
      "0  Norway                 4    2015                 4    2016\n"
     ]
    }
   ],
   "source": [
    "three_2015 = happiness2015[['Country','Happiness Rank','Year']].iloc[2:5]\n",
    "three_2016 = happiness2016[['Country','Happiness Rank','Year']].iloc[2:5]\n",
    "merged=pd.merge(left=three_2015, right=three_2016, on='Country')\n",
    "print(merged)\n",
    "# merge on countr, keep all info, called 'inner join'"
   ]
  },
  {
   "cell_type": "markdown",
   "metadata": {},
   "source": [
    "### 6. Joining on Columns with the Merge Function\n",
    "Four types of joins:\n",
    "- Inner: only includes elements that appear in both dataframes with a common key\n",
    "- Outer: includes all data from both dataframes\n",
    "- Left: includes all of the rows from the \"left\" dataframe along with any rows from the \"right\" dataframe with a common key; the result retains all columns from both of the original dataframes\n",
    "- Right: includes all of the rows from the \"right\" dataframe along with any rows from the \"left\" dataframe with a common key; the result retains all columns from both of the original dataframes\n",
    "\n",
    "Instructions:\n",
    "1. Update merged to use a left join instead of an inner join. Set the how parameter to `'left'` in `merge()`. Assign the result to `merged_left`.\n",
    "2. Update `merged_left` so that the 1 parameter equals `three_2016` and the 1 parameter equals `three_2015`. Assign the result to `merged_left_updated`.\n",
    "3. Based on the results of this exercise, when using a left join, does changing the dataframe assigned to the `left` and `right` parameters change the result? Try to answer this question before moving onto the next screen."
   ]
  },
  {
   "cell_type": "code",
   "execution_count": 14,
   "metadata": {},
   "outputs": [
    {
     "name": "stdout",
     "output_type": "stream",
     "text": [
      "   Country  Happiness Rank_x  Year_x  Happiness Rank_y  Year_y\n",
      "0  Denmark                 3    2015               NaN     NaN\n",
      "1   Norway                 4    2015               4.0  2016.0\n",
      "2   Canada                 5    2015               NaN     NaN\n",
      "   Country  Happiness Rank_x  Year_x  Happiness Rank_y  Year_y\n",
      "0  Iceland                 3    2016               NaN     NaN\n",
      "1   Norway                 4    2016               4.0  2015.0\n",
      "2  Finland                 5    2016               NaN     NaN\n"
     ]
    }
   ],
   "source": [
    "merged_left = pd.merge(left=three_2015, right=three_2016, on='Country', how='left')\n",
    "merged_left_updated = pd.merge(right=three_2015, left=three_2016, on='Country', how='left')\n",
    "# For left join, left table have higher priority. 'Country' is followed by left table\n",
    "\n",
    "print(merged_left)\n",
    "print(merged_left_updated)"
   ]
  },
  {
   "cell_type": "markdown",
   "metadata": {},
   "source": [
    "### 7. Left Joins with the Merge Function\n",
    "1. Update `merged` to use the suffixes `_2015` and `_2016`. Set the suffixes parameter to `('_2015', '_2016')` in `merge()`. Assign the result to `merged_suffixes`.\n",
    "2. Update `merged_updated` to use the suffixes `_2015` and `_2016`. Notice that the \"left\" dataframe is `three_2016` and the \"right\" dataframe is `three_2015`. Assign the result to `merged_updated_suffixes`.\n"
   ]
  },
  {
   "cell_type": "code",
   "execution_count": 15,
   "metadata": {},
   "outputs": [],
   "source": [
    "three_2015 = happiness2015[['Country','Happiness Rank','Year']].iloc[2:5]\n",
    "three_2016 = happiness2016[['Country','Happiness Rank','Year']].iloc[2:5]\n",
    "merged = pd.merge(left=three_2015, right=three_2016, how='left', on='Country')\n",
    "merged_updated = pd.merge(left=three_2016, right=three_2015, how = 'left', on='Country')\n",
    "merged_suffixes = pd.merge(left=three_2015, right=three_2016, how = 'left', on='Country', suffixes =('_2015', '_2016'))\n",
    "merged_updated_suffixes = pd.merge(left=three_2016, right=three_2015, how = 'left', on='Country', suffixes =('_2016', '_2015'))"
   ]
  },
  {
   "cell_type": "markdown",
   "metadata": {},
   "source": [
    "### 8. Join on Index with the Merge Function\n",
    "- Predict the number of `rows` and `columns` the resulting dataframe will have. Assign the number of rows to a variable called `rows` and the number of columns to a variable called `columns`.\n",
    "- To change the join type used in `merge_index` to a left join, set the `how` parameter equal to `'left'`. Save the result to `merge_index_left`.\n",
    "- Update `rows` and `columns` so that each contains the correct number of rows and columns in `merge_index_left`."
   ]
  },
  {
   "cell_type": "code",
   "execution_count": 17,
   "metadata": {},
   "outputs": [
    {
     "name": "stdout",
     "output_type": "stream",
     "text": [
      "  Country_2015  Happiness Rank_2015  Year_2015 Country_2016  \\\n",
      "2      Denmark                    3       2015      Iceland   \n",
      "3       Norway                    4       2015       Norway   \n",
      "4       Canada                    5       2015      Finland   \n",
      "5      Finland                    6       2015          NaN   \n",
      "\n",
      "   Happiness Rank_2016  Year_2016  \n",
      "2                  3.0     2016.0  \n",
      "3                  4.0     2016.0  \n",
      "4                  5.0     2016.0  \n",
      "5                  NaN        NaN  \n"
     ]
    }
   ],
   "source": [
    "four_2015 = happiness2015[['Country','Happiness Rank','Year']].iloc[2:6]\n",
    "three_2016 = happiness2016[['Country','Happiness Rank','Year']].iloc[2:5]\n",
    "merge_index = pd.merge(left = four_2015,right = three_2016, left_index = True, right_index = True, suffixes = ('_2015','_2016'))\n",
    "merge_index_left= pd.merge(left = four_2015,right = three_2016, left_index = True, how='left', right_index = True, suffixes = ('_2015','_2016'))\n",
    "print(merge_index_left)\n",
    "# rows=4 and columns=6\n",
    "# both left_index and right_index are true => keep the most info"
   ]
  },
  {
   "cell_type": "markdown",
   "metadata": {},
   "source": [
    "### 9. Challenge: Combine Data and Create a Visualization\n",
    "We've already created a Year column in happiness2017 and renamed the Happiness.Score column to Happiness Score.\n",
    "\n",
    "- Use either the `pd.concat()` function or the `pd.merge()` function to combine `happiness2015`, `happiness2016`, and `happiness2017`. Assign the result to combined.\n",
    "    - Think about whether you need to combine the data horizontally or vertically in order to create a dataframe that can be grouped by year, and decide which function (`pd.concat()` or `pd.merge()`) you can use to combine the data.\n",
    "- Use the `df.pivot_table()` method to create a pivot table from the combined dataframe. Set `Year` as the index and `Happiness Score` as the values. Assign the result to `pivot_table_combined`.\n",
    "- Use the `df.plot()` method to create a bar chart of the results. Set the `kind` parameter to `barh`, the `title` to `'Mean Happiness Scores by Year'`, and the `xlim` parameter to `(0,10)`.\n",
    "- Try to answer the following question based on the results of this exercise: Did world happiness increase, decrease, or stay about the same from 2015 to 2017?"
   ]
  },
  {
   "cell_type": "code",
   "execution_count": 19,
   "metadata": {},
   "outputs": [
    {
     "data": {
      "text/plain": [
       "<AxesSubplot:title={'center':'Mean Happiness Scores by Region'}, ylabel='Year'>"
      ]
     },
     "execution_count": 19,
     "metadata": {},
     "output_type": "execute_result"
    },
    {
     "data": {
      "image/png": "[encoded data removed]",
      "text/plain": [
       "<Figure size 640x480 with 1 Axes>"
      ]
     },
     "metadata": {},
     "output_type": "display_data"
    }
   ],
   "source": [
    "import numpy as np\n",
    "happiness2017.rename(columns={'Happiness.Score': 'Happiness Score'}, inplace=True)\n",
    "combined=pd.concat([happiness2015,happiness2016,happiness2017])\n",
    "# use pd.concat() by axis=0 to ensure no data lost\n",
    "pivot_table_combined=combined.pivot_table(index='Year',values='Happiness Score',aggfunc=np.mean)\n",
    "# use pivot table to group data by year and aggregate with mean\n",
    "pivot_table_combined.plot(kind='barh', title='Mean Happiness Scores by Region', xlim=(0,10))\n",
    "# draw aggregation result with bar chart"
   ]
  }
 ],
 "metadata": {
  "kernelspec": {
   "display_name": "Python 3.9.13 64-bit (microsoft store)",
   "language": "python",
   "name": "python3"
  },
  "language_info": {
   "codemirror_mode": {
    "name": "ipython",
    "version": 3
   },
   "file_extension": ".py",
   "mimetype": "text/x-python",
   "name": "python",
   "nbconvert_exporter": "python",
   "pygments_lexer": "ipython3",
   "version": "3.9.13"
  },
  "orig_nbformat": 4,
  "vscode": {
   "interpreter": {
    "hash": "d6b18f8a47c1ddfb9c333eb089a621eab8f433ff0c3e2037c4d6822505db78db"
   }
  }
 },
 "nbformat": 4,
 "nbformat_minor": 2
}
