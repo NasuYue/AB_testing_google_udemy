{
 "cells": [
  {
   "cell_type": "markdown",
   "metadata": {},
   "source": [
    "# Data Aggregation\n",
    "\n",
    "### About\n",
    "In this lesson, we'll show you how to aggregate data with pandas. Here are a couple of takeaways you can expect:\n",
    "- Different techniques for aggregating data\n",
    "- Building intuition around the groupby operation\n",
    "\n",
    "### Goal\n",
    "Throughout this lesson, we'll try to answer the following questions:\n",
    "\n",
    "- How can aggregating the data give us more insight into happiness scores?\n",
    "- How did world happiness change from 2015 to 2017?\n",
    "- Which factors contribute the most to the happiness score?\n",
    "\n",
    "### Dataset\n",
    "The dataset is from [World Happiness Report for 2015](https://www.kaggle.com/unsdsn/world-happiness), a CSV file called `World_Happiness_2015.csv`. Here are the descriptions for some of the columns we'll be working with:\n",
    "\n",
    "- `Country` — name of the country\n",
    "- `Region` — name of the region the country belongs to\n",
    "- `Happiness Rank` — the rank of the country, as determined by its happiness score\n",
    "- `Happiness Score` — a score assigned to each country based on the answers to a poll question that asks respondents to rate their happiness on a scale of 0-10\n",
    "- `Family` — the estimated extent to which family contributes to the happiness score\n",
    "- `Freedom` — the estimated extent to which freedom contributes to the happiness score\n",
    "- `Generosity` — the estimated extent to which generosity contributes to the happiness score"
   ]
  },
  {
   "cell_type": "markdown",
   "metadata": {},
   "source": [
    "### 2. Introduction to the Data\n",
    "- Read and inspect data with Pandas"
   ]
  },
  {
   "cell_type": "code",
   "execution_count": 1,
   "metadata": {},
   "outputs": [
    {
     "name": "stdout",
     "output_type": "stream",
     "text": [
      "<class 'pandas.core.frame.DataFrame'>\n",
      "RangeIndex: 158 entries, 0 to 157\n",
      "Data columns (total 12 columns):\n",
      " #   Column                         Non-Null Count  Dtype  \n",
      "---  ------                         --------------  -----  \n",
      " 0   Country                        158 non-null    object \n",
      " 1   Region                         158 non-null    object \n",
      " 2   Happiness Rank                 158 non-null    int64  \n",
      " 3   Happiness Score                158 non-null    float64\n",
      " 4   Standard Error                 158 non-null    float64\n",
      " 5   Economy (GDP per Capita)       158 non-null    float64\n",
      " 6   Family                         158 non-null    float64\n",
      " 7   Health (Life Expectancy)       158 non-null    float64\n",
      " 8   Freedom                        158 non-null    float64\n",
      " 9   Trust (Government Corruption)  158 non-null    float64\n",
      " 10  Generosity                     158 non-null    float64\n",
      " 11  Dystopia Residual              158 non-null    float64\n",
      "dtypes: float64(9), int64(1), object(2)\n",
      "memory usage: 14.9+ KB\n"
     ]
    }
   ],
   "source": [
    "import pandas as pd\n",
    "happiness2015=pd.read_csv('World_Happiness_2015.csv')\n",
    "first_5=happiness2015.head()\n",
    "happiness2015.info()"
   ]
  },
  {
   "cell_type": "markdown",
   "metadata": {},
   "source": [
    "### 3. Using Loops to Aggregate Data\n",
    "Applying a statistical operation to groups of our data, and create visualizations like the one above.\n",
    "\n",
    "1. Create an dictionary named `mean_happiness`\n",
    "2. Use a for loop to iterate over the unique region values from the `Region` column.\n",
    "3. Assign the mean value to the `mean_happiness` dictionary, using the region name as the key and the mean happiness score as the value."
   ]
  },
  {
   "cell_type": "code",
   "execution_count": 2,
   "metadata": {},
   "outputs": [
    {
     "name": "stdout",
     "output_type": "stream",
     "text": [
      "{'Western Europe': 6.689619047619048, 'North America': 7.273, 'Australia and New Zealand': 7.285, 'Middle East and Northern Africa': 5.406899999999999, 'Latin America and Caribbean': 6.1446818181818195, 'Southeastern Asia': 5.317444444444444, 'Central and Eastern Europe': 5.332931034482757, 'Eastern Asia': 5.626166666666666, 'Sub-Saharan Africa': 4.2028, 'Southern Asia': 4.580857142857143}\n"
     ]
    }
   ],
   "source": [
    "mean_happiness={}\n",
    "regions=happiness2015['Region'].unique()\n",
    "\n",
    "for r in regions:\n",
    "    #1. Split the DataFrame into groups.#\n",
    "    region_group=happiness2015[happiness2015['Region'] == r]\n",
    "    #2. Apply a function to each group.\n",
    "    region_mean=region_group['Happiness Score'].mean()\n",
    "    #3. Combine the results into one data structure.\n",
    "    mean_happiness[r]=region_mean\n",
    "\n",
    "print(mean_happiness)"
   ]
  },
  {
   "cell_type": "markdown",
   "metadata": {},
   "source": [
    "### 5. Creating GroupBy Objects\n",
    "1. Use the df.groupby() method to group happiness2015 by the Region column. \n",
    "2. Use the GroupBy.get_group() method to select the data for the Australia and New Zealand\n"
   ]
  },
  {
   "cell_type": "code",
   "execution_count": 3,
   "metadata": {},
   "outputs": [],
   "source": [
    "grouped=happiness2015.groupby('Region')\n",
    "aus_nz=grouped.get_group('Australia and New Zealand')"
   ]
  },
  {
   "cell_type": "markdown",
   "metadata": {},
   "source": [
    "### 6. Exploring GroupBy Objects\n",
    "\n",
    "Prove that the values for the `\"North America\"` group in the dictionary returned by `grouped.groups` above correspond to countries in North America in the `happiness2015` DataFrame.\n"
   ]
  },
  {
   "cell_type": "code",
   "execution_count": 4,
   "metadata": {},
   "outputs": [
    {
     "name": "stdout",
     "output_type": "stream",
     "text": [
      "    Country  Region  Happiness Rank  Happiness Score  Standard Error  \\\n",
      "4      True    True            True             True            True   \n",
      "14     True    True            True             True            True   \n",
      "\n",
      "    Economy (GDP per Capita)  Family  Health (Life Expectancy)  Freedom  \\\n",
      "4                       True    True                      True     True   \n",
      "14                      True    True                      True     True   \n",
      "\n",
      "    Trust (Government Corruption)  Generosity  Dystopia Residual  \n",
      "4                            True        True               True  \n",
      "14                           True        True               True  \n"
     ]
    }
   ],
   "source": [
    "north_america=happiness2015[happiness2015['Region']=='North America']\n",
    "na_group=grouped.get_group('North America')\n",
    "equal=(north_america == na_group)\n",
    "print(equal)"
   ]
  },
  {
   "cell_type": "markdown",
   "metadata": {},
   "source": [
    "### 7. Common Aggregation Methods with Groupby\n",
    "A basic process for data aggregation is create a GroupBy and call an aggregation function\n",
    "- Apply the `GroupBy.mean()` method to `grouped`. Assign the result to `means`."
   ]
  },
  {
   "cell_type": "code",
   "execution_count": 5,
   "metadata": {},
   "outputs": [
    {
     "name": "stdout",
     "output_type": "stream",
     "text": [
      "                                 Happiness Rank  Happiness Score  \\\n",
      "Region                                                             \n",
      "Australia and New Zealand              9.500000         7.285000   \n",
      "Central and Eastern Europe            79.000000         5.332931   \n",
      "Eastern Asia                          64.500000         5.626167   \n",
      "Latin America and Caribbean           46.909091         6.144682   \n",
      "Middle East and Northern Africa       77.600000         5.406900   \n",
      "North America                         10.000000         7.273000   \n",
      "Southeastern Asia                     81.222222         5.317444   \n",
      "Southern Asia                        113.142857         4.580857   \n",
      "Sub-Saharan Africa                   127.900000         4.202800   \n",
      "Western Europe                        29.523810         6.689619   \n",
      "\n",
      "                                 Standard Error  Economy (GDP per Capita)  \\\n",
      "Region                                                                      \n",
      "Australia and New Zealand              0.037270                  1.291880   \n",
      "Central and Eastern Europe             0.045208                  0.942438   \n",
      "Eastern Asia                           0.037225                  1.151780   \n",
      "Latin America and Caribbean            0.061127                  0.876815   \n",
      "Middle East and Northern Africa        0.046337                  1.066974   \n",
      "North America                          0.036960                  1.360400   \n",
      "Southeastern Asia                      0.042691                  0.789054   \n",
      "Southern Asia                          0.032161                  0.560486   \n",
      "Sub-Saharan Africa                     0.055299                  0.380473   \n",
      "Western Europe                         0.037625                  1.298596   \n",
      "\n",
      "                                   Family  Health (Life Expectancy)   Freedom  \\\n",
      "Region                                                                          \n",
      "Australia and New Zealand        1.314450                  0.919965  0.645310   \n",
      "Central and Eastern Europe       1.053042                  0.718774  0.358269   \n",
      "Eastern Asia                     1.099427                  0.877388  0.462490   \n",
      "Latin America and Caribbean      1.104720                  0.703870  0.501740   \n",
      "Middle East and Northern Africa  0.920490                  0.705615  0.361751   \n",
      "North America                    1.284860                  0.883710  0.589505   \n",
      "Southeastern Asia                0.940468                  0.677357  0.557104   \n",
      "Southern Asia                    0.645321                  0.540830  0.373337   \n",
      "Sub-Saharan Africa               0.809085                  0.282332  0.365944   \n",
      "Western Europe                   1.247302                  0.909148  0.549926   \n",
      "\n",
      "                                 Trust (Government Corruption)  Generosity  \\\n",
      "Region                                                                       \n",
      "Australia and New Zealand                             0.392795    0.455315   \n",
      "Central and Eastern Europe                            0.086674    0.152264   \n",
      "Eastern Asia                                          0.127695    0.225885   \n",
      "Latin America and Caribbean                           0.117172    0.217788   \n",
      "Middle East and Northern Africa                       0.181702    0.190376   \n",
      "North America                                         0.244235    0.429580   \n",
      "Southeastern Asia                                     0.151276    0.419261   \n",
      "Southern Asia                                         0.102536    0.341429   \n",
      "Sub-Saharan Africa                                    0.123878    0.221137   \n",
      "Western Europe                                        0.231463    0.302109   \n",
      "\n",
      "                                 Dystopia Residual  \n",
      "Region                                              \n",
      "Australia and New Zealand                 2.265355  \n",
      "Central and Eastern Europe                2.021400  \n",
      "Eastern Asia                              1.681607  \n",
      "Latin America and Caribbean               2.622577  \n",
      "Middle East and Northern Africa           1.980008  \n",
      "North America                             2.480935  \n",
      "Southeastern Asia                         1.783020  \n",
      "Southern Asia                             2.016769  \n",
      "Sub-Saharan Africa                        2.019980  \n",
      "Western Europe                            2.151185  \n"
     ]
    }
   ],
   "source": [
    "means=grouped.mean()\n",
    "print(means)"
   ]
  },
  {
   "cell_type": "markdown",
   "metadata": {},
   "source": [
    "### 8. Aggregating Specific Columns with Groupby\n",
    "1. Select only the Happiness Score column from grouped. \n",
    "2. Use the GroupBy.mean() method to compute the mean of happy_grouped. "
   ]
  },
  {
   "cell_type": "code",
   "execution_count": 6,
   "metadata": {},
   "outputs": [
    {
     "name": "stdout",
     "output_type": "stream",
     "text": [
      "Region\n",
      "Australia and New Zealand          7.285000\n",
      "Central and Eastern Europe         5.332931\n",
      "Eastern Asia                       5.626167\n",
      "Latin America and Caribbean        6.144682\n",
      "Middle East and Northern Africa    5.406900\n",
      "North America                      7.273000\n",
      "Southeastern Asia                  5.317444\n",
      "Southern Asia                      4.580857\n",
      "Sub-Saharan Africa                 4.202800\n",
      "Western Europe                     6.689619\n",
      "Name: Happiness Score, dtype: float64\n"
     ]
    }
   ],
   "source": [
    "happy_grouped=grouped['Happiness Score']\n",
    "# SeriousGroupBy object\n",
    "happy_mean=happy_grouped.mean()\n",
    "# serious object Happiness Score for each region\n",
    "print(happy_mean)"
   ]
  },
  {
   "cell_type": "markdown",
   "metadata": {},
   "source": [
    "### 9. Introduction to the Agg() Method\n",
    "1. Apply the `GroupBy.agg()` method to `happy_grouped`. Pass a list containing `np.mean` and `np.max` into the method. Assign the result to `happy_mean_max`.\n",
    "   - As noted above, passing `'mean'` and `'max'` into the `GroupBy.agg()` method will also return the same results. However, for answer-checking purposes, you'll have to use `np.mean` and `np.max`.\n",
    "2. We've also created a custom function named dif to calculate the difference between the mean and maximum values. Pass dif into the `GroupBy.agg()` method. Assign the result to `mean_max_dif`."
   ]
  },
  {
   "cell_type": "code",
   "execution_count": 7,
   "metadata": {},
   "outputs": [],
   "source": [
    "import numpy as np\n",
    "def dif(group):\n",
    "    return (group.max() - group.mean())\n",
    "# create a func object as parameter to groupby.agg(), applying to SeriousGroupBy object\n",
    "happy_mean_max=happy_grouped.agg([np.mean,np.max])\n",
    "# use agg with built-in arithmetic func np.mean andnp.max\n",
    "mean_max_dif=happy_grouped.agg(dif)\n",
    "# use agg with self-define func dif"
   ]
  },
  {
   "cell_type": "markdown",
   "metadata": {},
   "source": [
    "### 10. Computing Multiple and Custom Aggregations with the Agg() Method\n",
    "\n",
    "1. Inspect the following code: `happiness_means = happiness2015.groupby('Region')['Happiness Score'].mean()`. Try to answer the questions below before running the code and moving on. There is no answer-checking on this screen.\n",
    "   - If we run the code above, will the index of `happiness_means` be the unique values in the - `Region` column or the `Happiness Score` column?\n",
    "   - Will the values aggregated in `happiness_means` be the values from the `Region` column or the `Happiness Score` column?\n",
    "2. Print `happiness_means`. Were your predictions correct?"
   ]
  },
  {
   "cell_type": "code",
   "execution_count": 8,
   "metadata": {},
   "outputs": [
    {
     "name": "stdout",
     "output_type": "stream",
     "text": [
      "Region\n",
      "Australia and New Zealand          7.285000\n",
      "Central and Eastern Europe         5.332931\n",
      "Eastern Asia                       5.626167\n",
      "Latin America and Caribbean        6.144682\n",
      "Middle East and Northern Africa    5.406900\n",
      "North America                      7.273000\n",
      "Southeastern Asia                  5.317444\n",
      "Southern Asia                      4.580857\n",
      "Sub-Saharan Africa                 4.202800\n",
      "Western Europe                     6.689619\n",
      "Name: Happiness Score, dtype: float64\n"
     ]
    }
   ],
   "source": [
    "# 1. groupby region refer to region colum will be the unique value\n",
    "# 2. values aggregated in happiness_means is from Happiness Score\n",
    "happiness_means = happiness2015.groupby('Region')['Happiness Score'].mean()\n",
    "print(happiness_means)"
   ]
  },
  {
   "cell_type": "markdown",
   "metadata": {},
   "source": [
    "### 11. Aggregation with Pivot Tables\n",
    "Index and values are actually arguments used in another method used to aggregate data — the `DataFrame.pivot_table()` method. This `df.pivot_table()` method can perform the same kinds of aggregations as the `df.groupby` method and make the code for complex aggregations easier to read."
   ]
  },
  {
   "cell_type": "markdown",
   "metadata": {},
   "source": [
    "We've already updated `pv_happiness` by setting the `margins` parameter equal to `True`.\n",
    "\n",
    "1. Plot the resulting DataFrame, pv_happiness, using the `df.plot() method`. Set `kind` to `barh`, `xlim` to `(0,10)`, `title` to `'Mean Happiness Scores by Region'`, and `legend` to `False`. What do you notice about these results?\n",
    "2. Calculate the mean of the `Happiness Score` column in the original `happiness 2015` data set. Assign the result to `world_mean_happiness`.\n",
    "3. Does `world_mean_happiness` equal the value for the `All` group? If you can't figure out the answer, don't worry! We'll review this question on the next screen."
   ]
  },
  {
   "cell_type": "code",
   "execution_count": 9,
   "metadata": {},
   "outputs": [
    {
     "data": {
      "image/png": "[encoded data removed]",
      "text/plain": [
       "<Figure size 640x480 with 1 Axes>"
      ]
     },
     "metadata": {},
     "output_type": "display_data"
    }
   ],
   "source": [
    "pv_happiness = happiness2015.pivot_table(values='Happiness Score', index='Region', aggfunc=np.mean, margins=True)\n",
    "pv_happiness.plot(kind='barh',xlim=(0,10),title='Mean Happiness Scores by Region',legend=False)\n",
    "# An all column, but the bar doesn't follow any order like asec or sec\n",
    "\n",
    "world_mean_happiness=happiness2015['Happiness Score'].mean()\n",
    "# world_mean_happiness is 5.37573417721519 and value in all column is 5.375734"
   ]
  },
  {
   "cell_type": "markdown",
   "metadata": {},
   "source": [
    "### 12. Aggregating Multiple Columns and Functions with Pivot Tables\n",
    "The pivot_table method also allows us to aggregate multiple columns and apply multiple functions at once. Let's compare the results returned by the groupby operation and the pivot_table method.\n",
    "\n",
    "1. Use the `df.groupby()` method to calculate the minimum, maximum, and mean family and happiness scores for each region in `happiness2015`.\n",
    "\n",
    "2. Use the `pivot_table` method to return the same information, but also calculate the minimum, maximum, and mean for the entire `Family` and `Happiness Score` columns."
   ]
  },
  {
   "cell_type": "code",
   "execution_count": 10,
   "metadata": {},
   "outputs": [
    {
     "name": "stderr",
     "output_type": "stream",
     "text": [
      "C:\\Users\\eyuya\\AppData\\Local\\Temp\\ipykernel_2064\\1642972722.py:1: FutureWarning: Indexing with multiple keys (implicitly converted to a tuple of keys) will be deprecated, use a list instead.\n",
      "  grouped=happiness2015.groupby('Region')['Happiness Score','Family']\n"
     ]
    }
   ],
   "source": [
    "grouped=happiness2015.groupby('Region')['Happiness Score','Family']\n",
    "happy_family_stats=grouped.agg([np.min,np.max,np.mean])\n",
    "\n",
    "pv_happy_family_stats=happiness2015.pivot_table(['Happiness Score','Family'],'Region',margins=True,aggfunc=[np.min,np.max,np.mean])"
   ]
  }
 ],
 "metadata": {
  "kernelspec": {
   "display_name": "Python 3.9.13 64-bit (microsoft store)",
   "language": "python",
   "name": "python3"
  },
  "language_info": {
   "codemirror_mode": {
    "name": "ipython",
    "version": 3
   },
   "file_extension": ".py",
   "mimetype": "text/x-python",
   "name": "python",
   "nbconvert_exporter": "python",
   "pygments_lexer": "ipython3",
   "version": "3.9.13"
  },
  "orig_nbformat": 4,
  "vscode": {
   "interpreter": {
    "hash": "d6b18f8a47c1ddfb9c333eb089a621eab8f433ff0c3e2037c4d6822505db78db"
   }
  }
 },
 "nbformat": 4,
 "nbformat_minor": 2
}
