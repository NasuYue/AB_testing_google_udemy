{
 "cells": [
  {
   "cell_type": "markdown",
   "metadata": {},
   "source": [
    "# Data Aggregation\n",
    "\n",
    "### About\n",
    "In this lesson, we'll show you how to aggregate data with pandas. Here are a couple of takeaways you can expect:\n",
    "- Different techniques for aggregating data\n",
    "- Building intuition around the groupby operation\n",
    "\n",
    "### Goal\n",
    "Throughout this lesson, we'll try to answer the following questions:\n",
    "\n",
    "- How can aggregating the data give us more insight into happiness scores?\n",
    "- How did world happiness change from 2015 to 2017?\n",
    "- Which factors contribute the most to the happiness score?\n",
    "\n",
    "### Dataset\n",
    "The dataset is from [World Happiness Report for 2015](https://www.kaggle.com/unsdsn/world-happiness), a CSV file called `World_Happiness_2015.csv`. Here are the descriptions for some of the columns we'll be working with:\n",
    "\n",
    "- `Country` — name of the country\n",
    "- `Region` — name of the region the country belongs to\n",
    "- `Happiness Rank` — the rank of the country, as determined by its happiness score\n",
    "- `Happiness Score` — a score assigned to each country based on the answers to a poll question that asks respondents to rate their happiness on a scale of 0-10\n",
    "- `Family` — the estimated extent to which family contributes to the happiness score\n",
    "- `Freedom` — the estimated extent to which freedom contributes to the happiness score\n",
    "- `Generosity` — the estimated extent to which generosity contributes to the happiness score"
   ]
  },
  {
   "cell_type": "markdown",
   "metadata": {},
   "source": [
    "### 2. Introduction to the Data\n",
    "- Read and inspect data with Pandas"
   ]
  },
  {
   "cell_type": "code",
   "execution_count": 2,
   "metadata": {},
   "outputs": [
    {
     "name": "stdout",
     "output_type": "stream",
     "text": [
      "<class 'pandas.core.frame.DataFrame'>\n",
      "RangeIndex: 158 entries, 0 to 157\n",
      "Data columns (total 12 columns):\n",
      " #   Column                         Non-Null Count  Dtype  \n",
      "---  ------                         --------------  -----  \n",
      " 0   Country                        158 non-null    object \n",
      " 1   Region                         158 non-null    object \n",
      " 2   Happiness Rank                 158 non-null    int64  \n",
      " 3   Happiness Score                158 non-null    float64\n",
      " 4   Standard Error                 158 non-null    float64\n",
      " 5   Economy (GDP per Capita)       158 non-null    float64\n",
      " 6   Family                         158 non-null    float64\n",
      " 7   Health (Life Expectancy)       158 non-null    float64\n",
      " 8   Freedom                        158 non-null    float64\n",
      " 9   Trust (Government Corruption)  158 non-null    float64\n",
      " 10  Generosity                     158 non-null    float64\n",
      " 11  Dystopia Residual              158 non-null    float64\n",
      "dtypes: float64(9), int64(1), object(2)\n",
      "memory usage: 14.9+ KB\n"
     ]
    }
   ],
   "source": [
    "import pandas as pd\n",
    "happiness2015=pd.read_csv('World_Happiness_2015.csv')\n",
    "first_5=happiness2015.head()\n",
    "happiness2015.info()"
   ]
  },
  {
   "cell_type": "code",
   "execution_count": null,
   "metadata": {},
   "outputs": [],
   "source": []
  }
 ],
 "metadata": {
  "kernelspec": {
   "display_name": "Python 3.9.13 64-bit (microsoft store)",
   "language": "python",
   "name": "python3"
  },
  "language_info": {
   "codemirror_mode": {
    "name": "ipython",
    "version": 3
   },
   "file_extension": ".py",
   "mimetype": "text/x-python",
   "name": "python",
   "nbconvert_exporter": "python",
   "pygments_lexer": "ipython3",
   "version": "3.9.13"
  },
  "orig_nbformat": 4,
  "vscode": {
   "interpreter": {
    "hash": "d6b18f8a47c1ddfb9c333eb089a621eab8f433ff0c3e2037c4d6822505db78db"
   }
  }
 },
 "nbformat": 4,
 "nbformat_minor": 2
}
