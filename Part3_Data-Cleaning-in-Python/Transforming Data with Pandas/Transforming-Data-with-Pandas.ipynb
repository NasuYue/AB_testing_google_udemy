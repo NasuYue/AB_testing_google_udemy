{
 "cells": [
  {
   "cell_type": "markdown",
   "metadata": {},
   "source": [
    "# Transforming Data with Pandas\n",
    "\n",
    "### About\n",
    "In this lesson, we'll continue working with the [World Happiness Report](https://www.kaggle.com/unsdsn/world-happiness) and explore another aspect of it that we haven't analyzed yet - the factors that contribute to happiness. \n",
    "\n",
    "### Goal\n",
    "Throughout this lesson, we'll refer to the columns above as the \"factor\" columns. We'll work to answer the following question in this lesson:\n",
    "\n",
    "`Which of the factors above contribute the most to the happiness score?`\n",
    "\n",
    "In order to answer this question, we need to manipulate our data into a format that makes it easier to analyze. We'll explore the following functions and methods to perform this task:\n",
    "\n",
    "- Series.map()\n",
    "- Series.apply()\n",
    "- DataFrame.applymap()\n",
    "- DataFrame.apply()\n",
    "- pd.melt()\n",
    "\n",
    "\n",
    "\n",
    "### Dataset\n",
    "The dataset is from [World Happiness Report for 2015](https://www.kaggle.com/unsdsn/world-happiness), a CSV file called `World_Happiness_2015.csv`. Here are the descriptions for some of the columns we'll be working with:\n",
    "\n",
    "- `Country` — name of the country\n",
    "- `Region` — name of the region the country belongs to\n",
    "- `Happiness Rank` — the rank of the country, as determined by its happiness score\n",
    "- `Happiness Score` — a score assigned to each country based on the answers to a poll question that asks respondents to rate their happiness on a scale of 0-10\n",
    "- `Family` — the estimated extent to which family contributes to the happiness score\n",
    "- `Freedom` — the estimated extent to which freedom contributes to the happiness score\n",
    "- `Generosity` — the estimated extent to which generosity contributes to the happiness score\n",
    "- `Dystopia Residual`- Represents the extent to which the factors above over or under explain the happiness score. Don't worry too much about this column  you won't need in depth knowledge of it to complete this lesson."
   ]
  },
  {
   "cell_type": "markdown",
   "metadata": {},
   "source": [
    "### 1. Introduction\n",
    "\n",
    "Recall that the 2015 World Happiness Report is saved to a variable named `happiness2015`. We also created a dictionary named `mapping` for renaming columns.\n",
    "\n",
    "1. Use the `DataFrame.rename()` method to change the `'Economy (GDP per Capita)'`, `'Health (Life Expectancy)'`, and `'Trust (Government Corruption)'` column names to the names specified in the `mapping` dictionary.\n",
    "   - Pass the `mapping` dictionary into the `df.rename()` method and set the `axis` parameter to `1`.\n",
    "   - Assign the result back to happiness2015."
   ]
  },
  {
   "cell_type": "code",
   "execution_count": 1,
   "metadata": {},
   "outputs": [
    {
     "data": {
      "text/plain": [
       "Index(['Country', 'Region', 'Happiness Rank', 'Happiness Score',\n",
       "       'Standard Error', 'Economy', 'Family', 'Health', 'Freedom', 'Trust',\n",
       "       'Generosity', 'Dystopia Residual'],\n",
       "      dtype='object')"
      ]
     },
     "execution_count": 1,
     "metadata": {},
     "output_type": "execute_result"
    }
   ],
   "source": [
    "import pandas as pd\n",
    "happiness2015=pd.read_csv('World_Happiness_2015.csv')\n",
    "mapping = {'Economy (GDP per Capita)': 'Economy', 'Health (Life Expectancy)': 'Health', 'Trust (Government Corruption)': 'Trust' }\n",
    "happiness2015=happiness2015.rename(mapping,axis=1)\n",
    "happiness2015.columns\n",
    "# assign back to happiness2015"
   ]
  },
  {
   "cell_type": "markdown",
   "metadata": {},
   "source": [
    "### 2. Apply a Function Element-Wise Using the Map and Apply Methods\n",
    "1. Use the `Series.map()` method to apply the `label` function to the `Economy` column in `happiness2015`. Assign the result to `economy_impact_map`.\n",
    "2. Use the `Series.apply()` method to apply the `label` function to the `Economy` column. Assign the result to `economy_impact_apply`.\n",
    "3. Use the following code to check if the methods produce the same result: `economy_impact_map.equals(economy_impact_apply)`. Assign the result to a variable named `equal`."
   ]
  },
  {
   "cell_type": "code",
   "execution_count": 3,
   "metadata": {},
   "outputs": [
    {
     "name": "stdout",
     "output_type": "stream",
     "text": [
      "True\n"
     ]
    }
   ],
   "source": [
    "def label(element):\n",
    "    if element > 1:\n",
    "        return 'High'\n",
    "    else:\n",
    "        return 'Low'\n",
    "\n",
    "economy_impact_map=happiness2015['Economy'].map(label)\n",
    "economy_impact_apply=happiness2015['Economy'].apply(label)\n",
    "equal=economy_impact_map.equals(economy_impact_apply)\n",
    "print(equal)"
   ]
  },
  {
   "cell_type": "markdown",
   "metadata": {},
   "source": [
    "### 3. Apply a Function Element-Wise Using the Map and Apply Methods Continued\n",
    "- Update `label` to take in another argument named `x`. If the `element` is greater than `x`, return `'High'`. Otherwise, return `'Low'`.\n",
    "- Then, use the `apply` method to apply `label` to the `Economy` column and set the `x` argument to `0.8`. Save the result back to `economy_impact_apply`."
   ]
  },
  {
   "cell_type": "code",
   "execution_count": 4,
   "metadata": {},
   "outputs": [
    {
     "name": "stdout",
     "output_type": "stream",
     "text": [
      "True\n"
     ]
    }
   ],
   "source": [
    "def label(element,x):\n",
    "    if element > x:\n",
    "        return 'High'\n",
    "    else:\n",
    "        return 'Low'\n",
    "economy_impact_apply = happiness2015['Economy'].apply(label,x=.8)\n",
    "\n",
    "in_between=happiness2015[(happiness2015['Economy']>.8) & (happiness2015['Economy']<1)]['Economy'].index\n",
    "check_x_is_applied=all(x in list(economy_impact_apply.index) for x in list(in_between))\n",
    "print(check_x_is_applied)\n",
    "# Check condition \"value in 0.8~1\" is applied"
   ]
  },
  {
   "cell_type": "markdown",
   "metadata": {},
   "source": [
    "### 4. Apply a Function Element-Wise to Multiple Columns Using Applymap Method\n",
    "If we wanted to transform more than one column, pandas already has a method that can apply functions element-wise to multiple columns at once - the `DataFrame.applymap()` method. Just like with the `Series.map()` and `Series.apply()` methods, we need to pass the function name into the `df.applymap()` method without parentheses.\n",
    "- Use the `df.applymap()` method to apply the label function to the columns saved in factors in `happiness2015`. Assign the result to `factors_impact`.\n"
   ]
  },
  {
   "cell_type": "code",
   "execution_count": 6,
   "metadata": {},
   "outputs": [
    {
     "name": "stdout",
     "output_type": "stream",
     "text": [
      "    Economy Family Health Freedom Trust Generosity\n",
      "0      High   High    Low     Low   Low        Low\n",
      "1      High   High    Low     Low   Low        Low\n",
      "2      High   High    Low     Low   Low        Low\n",
      "3      High   High    Low     Low   Low        Low\n",
      "4      High   High    Low     Low   Low        Low\n",
      "..      ...    ...    ...     ...   ...        ...\n",
      "153     Low    Low    Low     Low   Low        Low\n",
      "154     Low    Low    Low     Low   Low        Low\n",
      "155     Low    Low    Low     Low   Low        Low\n",
      "156     Low    Low    Low     Low   Low        Low\n",
      "157     Low    Low    Low     Low   Low        Low\n",
      "\n",
      "[158 rows x 6 columns]\n"
     ]
    }
   ],
   "source": [
    "def label(element):\n",
    "    if element > 1:\n",
    "        return 'High'\n",
    "    else:\n",
    "        return 'Low'\n",
    "economy_apply = happiness2015['Economy'].apply(label)\n",
    "factors = ['Economy', 'Family', 'Health', 'Freedom', 'Trust', 'Generosity']\n",
    "factors_impact=happiness2015[factors].applymap(label)\n",
    "print(factors_impact)"
   ]
  },
  {
   "cell_type": "markdown",
   "metadata": {},
   "source": [
    "### 5. Apply Functions Along an Axis Using the Apply Method\n",
    "Note\n",
    "- `Serious.map()`, `Serious.apply()` and `Dataframe.applymap()` are applying function element-wise.\n",
    "- `df.apply()` method applies functions along an axis, either column-wise or row-wise\n",
    "- If we tried to use the `df.apply()` method to apply a function that works element-wise to multiple columns, we'd get an error.\n",
    "\n",
    "Instruction\n",
    "1. Create a function that calculates the percentage of `'High'` and `'Low'` values in each column.\n",
    "   - Create a function named `v_counts` that accepts one parameter called `col`.\n",
    "   - Use the `Series.value_counts()` method to calculate the value counts for col. Assign the result to `num`.\n",
    "   - Use the `Series.size` attribute to calculate the number of rows in the column. Assign the result to `den`.\n",
    "   - Divide `num` by `den` and return the result.\n",
    "2. Use the `df.apply()` method to apply the `v_counts` function to all of the columns in `factors_impact`. Assign the result to `v_counts_pct`."
   ]
  },
  {
   "cell_type": "code",
   "execution_count": 9,
   "metadata": {},
   "outputs": [
    {
     "name": "stdout",
     "output_type": "stream",
     "text": [
      "       Economy Family Health Freedom Trust Generosity\n",
      "count      158    158    158     158   158        158\n",
      "unique       2      2      2       1     1          1\n",
      "top        Low   High    Low     Low   Low        Low\n",
      "freq        92     89    156     158   158        158\n",
      "       Economy    Family    Health  Freedom  Trust  Generosity\n",
      "High  0.417722  0.563291  0.012658      NaN    NaN         NaN\n",
      "Low   0.582278  0.436709  0.987342      1.0    1.0         1.0\n"
     ]
    }
   ],
   "source": [
    "def v_counts(col):\n",
    "    num=col.value_counts()\n",
    "    den=col.size\n",
    "    return num/den\n",
    "\n",
    "v_counts_pct=factors_impact.apply(v_counts)\n",
    "print(factors_impact.describe())\n",
    "print(v_counts_pct)\n",
    "# caculate percentage of High and Low"
   ]
  },
  {
   "cell_type": "markdown",
   "metadata": {},
   "source": [
    "### 6. Apply Functions Along an Axis Using the Apply Method Continued\n",
    "\n",
    "In general, we should only use the apply() method when a vectorized function does not exist. Recall that pandas uses vectorization, the process of applying operations to whole series at once, to optimize performance. When we use the apply() method, we're actually looping through rows, so a vectorized method can perform an equivalent task faster than the apply() method.\n",
    "\n",
    "Instruction\n",
    "1. Create a function that converts each of the six factor columns and the `Dystopia Residual` column to `percentages`.\n",
    "   - Create a function named `percentages` that accepts one parameter called `col`.\n",
    "   - Divide `col` by the `Happiness Score` column. Assign the result to `div`.\n",
    "   - Multiply `div` by `100` and return the result.\n",
    "2. Use the `df.apply()` method to apply the `percentages` function to all of the columns in `factors`. Assign the result to `factor_percentages`."
   ]
  },
  {
   "cell_type": "code",
   "execution_count": 10,
   "metadata": {},
   "outputs": [],
   "source": [
    "def percentages(col):\n",
    "    div=col/happiness2015['Happiness Score']\n",
    "    return div*100\n",
    "factors = ['Economy', 'Family', 'Health', 'Freedom', 'Trust', 'Generosity', 'Dystopia Residual']\n",
    "factor_percentages=happiness2015[factors].apply(percentages)"
   ]
  },
  {
   "cell_type": "markdown",
   "metadata": {},
   "source": [
    "### 7. Reshaping Data with the Melt Function\n",
    "1. Use the `melt` function to reshape ``happiness2015``. The columns listed in `main_cols` should stay the same. The columns listed in `factors` should be transformed into rows. Assign the result to a variable called melt.\n",
    "2. Convert the `value` column to a percentage.\n",
    "   - Divide the `value` column by the` Happiness Score` column and multiply the result by `100`.\n",
    "   - Use the `round()` function to round the result to 2 decimal places.\n",
    "   - Assign the result to a new column called `Percentage`."
   ]
  },
  {
   "cell_type": "code",
   "execution_count": 11,
   "metadata": {},
   "outputs": [],
   "source": [
    "main_cols = ['Country', 'Region', 'Happiness Rank', 'Happiness Score']\n",
    "factors = ['Economy', 'Family', 'Health', 'Freedom', 'Trust', 'Generosity', 'Dystopia Residual']\n",
    "melt = pd.melt(happiness2015, id_vars = main_cols, value_vars = factors)\n",
    "melt['Percentage'] = round(melt['value']/melt['Happiness Score'] * 100, 2)"
   ]
  },
  {
   "cell_type": "markdown",
   "metadata": {},
   "source": [
    "### 8. Challenge: Aggregate the Data and Create a Visualization\n",
    "We use the melt function to reshape our data so that we could use vectorized operations to convert the value column into percentages.\n",
    "You may have also noticed that now the data is in a format that makes it easier to aggregate. We refer to data in this format as [tidy data](https://www.jstatsoft.org/article/view/v059i10).\n",
    "\n",
    "Instructions\n",
    "1. Use the `df.pivot_table()` method to create a pivot table from the `melt` dataframe. Set the `variable` column as the `index` and the `value` column as the `values`. Assign the result to `pv_melt`.\n",
    "2. Use the `df.plot()` method to create a pie chart of the results. Set the kind parameter to `'pie'`, the y parameter to `'value'`, and the `legend` parameter to `False`, so we can better see the results.\n",
    "3. If we disregard `Dystopia Residual`, which two factors, on average, contribute the most to the happiness score?"
   ]
  },
  {
   "cell_type": "code",
   "execution_count": 15,
   "metadata": {},
   "outputs": [
    {
     "data": {
      "text/plain": [
       "<AxesSubplot:ylabel='value'>"
      ]
     },
     "execution_count": 15,
     "metadata": {},
     "output_type": "execute_result"
    },
    {
     "data": {
      "image/png": "[encoded data removed]",
      "text/plain": [
       "<Figure size 640x480 with 1 Axes>"
      ]
     },
     "metadata": {},
     "output_type": "display_data"
    }
   ],
   "source": [
    "pv_melt=melt.pivot_table(index='variable',values='value')\n",
    "pv_melt.plot(kind='pie',y='value',legend=False)\n",
    "# Economy and Family are the two major factors contributed the most to Happiness Score if we disregard `Dystopia Residual`"
   ]
  },
  {
   "cell_type": "code",
   "execution_count": null,
   "metadata": {},
   "outputs": [],
   "source": []
  }
 ],
 "metadata": {
  "kernelspec": {
   "display_name": "Python 3.9.13 64-bit (microsoft store)",
   "language": "python",
   "name": "python3"
  },
  "language_info": {
   "codemirror_mode": {
    "name": "ipython",
    "version": 3
   },
   "file_extension": ".py",
   "mimetype": "text/x-python",
   "name": "python",
   "nbconvert_exporter": "python",
   "pygments_lexer": "ipython3",
   "version": "3.9.13"
  },
  "orig_nbformat": 4,
  "vscode": {
   "interpreter": {
    "hash": "d6b18f8a47c1ddfb9c333eb089a621eab8f433ff0c3e2037c4d6822505db78db"
   }
  }
 },
 "nbformat": 4,
 "nbformat_minor": 2
}
