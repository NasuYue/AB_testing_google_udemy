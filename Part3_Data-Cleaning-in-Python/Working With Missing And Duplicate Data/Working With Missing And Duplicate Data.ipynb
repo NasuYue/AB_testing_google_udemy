{
 "cells": [
  {
   "cell_type": "markdown",
   "metadata": {},
   "source": [
    "#　Working With Missing And Duplicate Data\n",
    "## About\n",
    "In this lesson, we'll explore each of these options in detail and learn when to use them. We'll work with the 2015, 2016, and 2017 World Happiness Reports again - more specifically, we'll combine them and clean missing values as we start to define a more complete data cleaning workflow. You can find the data sets [here](https://www.kaggle.com/unsdsn/world-happiness#2015.csv), along with descriptions of each of the columns.\n",
    "\n",
    "Missing or duplicate data may exist in a data set for a number of different reasons. Sometimes, missing or duplicate data is introduced as we perform cleaning and transformation tasks such as:\n",
    "\n",
    "- Combining data\n",
    "- Reindexing data\n",
    "- Reshaping data\n",
    "\n",
    "In the Pandas Fundamentals course, we learned that there are various ways to handle missing data:\n",
    "\n",
    "- Remove any rows that have missing values.\n",
    "- Remove any columns that have missing values.\n",
    "- Fill the missing values with some other value.\n",
    "- Leave the missing values as is.\n",
    "\n",
    "## Goal\n",
    "## Dataset\n",
    "\n",
    "\n"
   ]
  }
 ],
 "metadata": {
  "kernelspec": {
   "display_name": "Python 3.9.13 64-bit (microsoft store)",
   "language": "python",
   "name": "python3"
  },
  "language_info": {
   "codemirror_mode": {
    "name": "ipython",
    "version": 3
   },
   "file_extension": ".py",
   "mimetype": "text/x-python",
   "name": "python",
   "nbconvert_exporter": "python",
   "pygments_lexer": "ipython3",
   "version": "3.9.13"
  },
  "orig_nbformat": 4,
  "vscode": {
   "interpreter": {
    "hash": "d6b18f8a47c1ddfb9c333eb089a621eab8f433ff0c3e2037c4d6822505db78db"
   }
  }
 },
 "nbformat": 4,
 "nbformat_minor": 2
}
