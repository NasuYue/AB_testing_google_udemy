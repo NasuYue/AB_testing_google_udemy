{
 "cells": [
  {
   "cell_type": "markdown",
   "metadata": {},
   "source": [
    "## Finding Heavy Traffic Indicators on I-94\n",
    "\n",
    "### About \n",
    "Analyze a dataset about westbound traffic on the [I-94 Interstate highway](https://en.wikipedia.org/wiki/Interstate_94).\n",
    "\n",
    "### Goal\n",
    "The goal of our analysis is to determine indicators of heavy traffic on I-94. These indicators can be weather type, time of the day, time of the week, etc. For instance, we may find out that the traffic is usually heavier in the summer or when it snows.\n",
    "\n",
    "### Dataset description\n",
    "\n",
    "1. Data Set Information:\n",
    "Hourly Interstate 94 Westbound traffic volume for MN DoT ATR station 301, roughly midway between Minneapolis and St Paul, MN. Hourly weather features and holidays included for impacts on traffic volume.\n",
    "\n",
    "2. Attribute Information:\n",
    "- holiday Categorical US National holidays plus regional holiday, Minnesota State Fair\n",
    "- `temp` Numeric Average temp in kelvin\n",
    "- `rain_1h` Numeric Amount in mm of rain that occurred in the hour\n",
    "- `snow_1h` Numeric Amount in mm of snow that occurred in the hour\n",
    "- `clouds_all` Numeric Percentage of cloud cover\n",
    "- `weather_main` Categorical Short textual description of the current weather\n",
    "- `weather_description` Categorical Longer textual description of the current weather\n",
    "- `date_time` DateTime Hour of the data collected in local CST time"
   ]
  },
  {
   "cell_type": "code",
   "execution_count": 2,
   "metadata": {},
   "outputs": [
    {
     "name": "stdout",
     "output_type": "stream",
     "text": [
      "<class 'pandas.core.frame.DataFrame'>\n",
      "RangeIndex: 48204 entries, 0 to 48203\n",
      "Data columns (total 9 columns):\n",
      " #   Column               Non-Null Count  Dtype  \n",
      "---  ------               --------------  -----  \n",
      " 0   holiday              48204 non-null  object \n",
      " 1   temp                 48204 non-null  float64\n",
      " 2   rain_1h              48204 non-null  float64\n",
      " 3   snow_1h              48204 non-null  float64\n",
      " 4   clouds_all           48204 non-null  int64  \n",
      " 5   weather_main         48204 non-null  object \n",
      " 6   weather_description  48204 non-null  object \n",
      " 7   date_time            48204 non-null  object \n",
      " 8   traffic_volume       48204 non-null  int64  \n",
      "dtypes: float64(3), int64(2), object(4)\n",
      "memory usage: 3.3+ MB\n"
     ]
    }
   ],
   "source": [
    "import pandas as pd\n",
    "data=pd.read_csv('Metro_Interstate_Traffic_Volume.csv')\n",
    "data.info()"
   ]
  },
  {
   "cell_type": "code",
   "execution_count": 13,
   "metadata": {},
   "outputs": [
    {
     "data": {
      "text/plain": [
       "holiday                False\n",
       "temp                   False\n",
       "rain_1h                False\n",
       "snow_1h                False\n",
       "clouds_all             False\n",
       "weather_main           False\n",
       "weather_description    False\n",
       "date_time              False\n",
       "traffic_volume         False\n",
       "dtype: bool"
      ]
     },
     "execution_count": 13,
     "metadata": {},
     "output_type": "execute_result"
    }
   ],
   "source": [
    "# Check if any null values\n",
    "data.isnull().any()"
   ]
  },
  {
   "cell_type": "markdown",
   "metadata": {},
   "source": [
    "### 2. Analyzing Traffic Volume\n",
    "In the next exercise, we're going to plot a histogram to visualize the distribution of the `traffic_volume` column.\n",
    "1. Add the `%matplotlib inline` magic.\n",
    "2. Plot a histogram to examine the distribution of the `traffic_volume` column. Use a Pandas method.\n",
    "3. Use `Series.describe()` to look up a few statistics about the `traffic_volume` column.\n",
    "4. Note a few observations about the distribution of `traffic_volume` based on the histogram and the result of `Series.describe()`.\n",
    "5. Do you think daytime and nighttime influence the traffic volume?"
   ]
  },
  {
   "cell_type": "code",
   "execution_count": 8,
   "metadata": {},
   "outputs": [
    {
     "data": {
      "text/plain": [
       "Text(0.5, 0, 'Traffic volume')"
      ]
     },
     "execution_count": 8,
     "metadata": {},
     "output_type": "execute_result"
    },
    {
     "data": {
      "image/png": "[encoded data removed]",
      "text/plain": [
       "<Figure size 640x480 with 1 Axes>"
      ]
     },
     "metadata": {},
     "output_type": "display_data"
    }
   ],
   "source": [
    "import matplotlib.pyplot as plt\n",
    "%matplotlib inline\n",
    "import seaborn as sns\n",
    "\n",
    "sns.set_theme()\n",
    "data['traffic_volume'].plot.hist()\n",
    "plt.title('Traffic volume distribution')\n",
    "plt.xlabel('Traffic volume')"
   ]
  },
  {
   "cell_type": "markdown",
   "metadata": {},
   "source": [
    "- About 25% of the time, there were 1,193 cars or fewer passing the station each hour — this probably occurs during the night, or when a road is under construction.\n",
    "- About 75% of the time, the traffic volume was four times as much (4,933 cars or more)."
   ]
  },
  {
   "cell_type": "markdown",
   "metadata": {},
   "source": [
    "### 3. Traffic Volume: Day vs. Night\n",
    "We'll start by dividing the dataset into two parts:\n",
    "- Daytime data: hours from 7 a.m. to 7 p.m. (12 hours)\n",
    "- Nighttime data: hours from 7 p.m. to 7 a.m. (12 hours)\n",
    "\n",
    "1. Transform the `date_time` column to datetime by using the function `pd.to_datetime()`.\n",
    "2. Use the `Series.dt.hour` property to get the hour of every instance of the `date_time` column and do the following:\n",
    "   - Isolate the daytime data.\n",
    "   - Isolate the nighttime data."
   ]
  },
  {
   "cell_type": "code",
   "execution_count": 9,
   "metadata": {},
   "outputs": [],
   "source": [
    "data['date_time']=pd.to_datetime(data['date_time'])\n",
    "daytime=data[(data['date_time'].dt.hour>=7) & (data['date_time'].dt.hour<=19)]\n",
    "nighttime=data[(data['date_time'].dt.hour<6) & (data['date_time'].dt.hour>20)]"
   ]
  },
  {
   "cell_type": "markdown",
   "metadata": {},
   "source": [
    "### 4. Traffic Volume: Day vs. Night (II)\n",
    "Compare the traffic volume at night and during day.\n",
    "1. Plot the histograms of `traffic_volume` for both day and night. Organize the two histograms side-by-side on a grid chart.\n",
    "2. For both histograms, do the following:\n",
    "   - Add a title.\n",
    "   - Add x- and y-labels.\n",
    "   - Bring the x- and the y-axis to the same ranges (this will help you compare the histograms correctly).\n",
    "3. Use `Series.describe()` to look up a few statistics for `traffic_volume` for both day and night.\n",
    "4. Analyze the results:\n",
    "   - What shape do the histograms have and what does that indicate?\n",
    "   - If the traffic is light at night, and our goal is to find indicators of heavy traffic, should we still be using the nighttime data?"
   ]
  },
  {
   "cell_type": "code",
   "execution_count": null,
   "metadata": {},
   "outputs": [],
   "source": []
  }
 ],
 "metadata": {
  "kernelspec": {
   "display_name": "Python 3.9.13 64-bit (microsoft store)",
   "language": "python",
   "name": "python3"
  },
  "language_info": {
   "codemirror_mode": {
    "name": "ipython",
    "version": 3
   },
   "file_extension": ".py",
   "mimetype": "text/x-python",
   "name": "python",
   "nbconvert_exporter": "python",
   "pygments_lexer": "ipython3",
   "version": "3.9.13"
  },
  "orig_nbformat": 4,
  "vscode": {
   "interpreter": {
    "hash": "d6b18f8a47c1ddfb9c333eb089a621eab8f433ff0c3e2037c4d6822505db78db"
   }
  }
 },
 "nbformat": 4,
 "nbformat_minor": 2
}
